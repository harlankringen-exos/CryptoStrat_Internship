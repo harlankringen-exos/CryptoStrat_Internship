{
 "cells": [
  {
   "cell_type": "markdown",
   "metadata": {},
   "source": [
    "## Top of Book-ify Bloomberg data\n",
    "\n",
    "This script just takes a \"Curncy.csv\" file and collects together enough information \n",
    "to get a top of book view.  It needs to be done prior to any of the other script \n",
    "work in this repo.   "
   ]
  },
  {
   "cell_type": "code",
   "execution_count": null,
   "metadata": {},
   "outputs": [],
   "source": [
    "import sys\n",
    "import math\n",
    "\n",
    "import numpy as np\n",
    "import pandas as pd\n",
    "\n",
    "from enum import Enum, IntEnum\n",
    "from collections import namedtuple"
   ]
  },
  {
   "cell_type": "code",
   "execution_count": null,
   "metadata": {},
   "outputs": [],
   "source": [
    "Action = Enum('Action', 'ASK BID TRADE')\n",
    "\n",
    "class Row(IntEnum):\n",
    "    INDEX = 0\n",
    "    TIME = 1\n",
    "    TYPE = 2\n",
    "    VALUE = 3\n",
    "    SIZE = 4\n",
    "    CONDITIONCODES = 5\n",
    "    \n",
    "TopOfBook = namedtuple('TopOfBook', [\"time\", \"event_type\", \"ask_price\", \"ask_qty\",\n",
    "                                     \"bid_price\", \"bid_qty\", \"trade_price\", \"trade_qty\", \"conditionCodes\"])\n",
    "\n",
    "data_dir = \"/home/harlan/ucsb/projects/exos_internship/CryptoStrat_Internship/kraken/generator/data_dumps\"\n",
    "currency_file = \"BTCN0_Curncy.csv\"\n",
    "\n",
    "last_ask = (0,0)\n",
    "last_bid = (0,0)\n",
    "book = [] # list of TopOfBook's\n",
    "tsum = [] # holds subsequent condition codes\n",
    "    \n",
    "df = pd.read_csv(data_dir + \"/\" + currency_file)\n",
    "    \n",
    "for row in df.itertuples():\n",
    "    action = row[Row.TYPE]\n",
    "    condition = row[Row.CONDITIONCODES]\n",
    "    if action == \"BID\":\n",
    "        last_bid = (row[Row.VALUE], row[Row.SIZE])\n",
    "\n",
    "    if action == \"ASK\":\n",
    "        last_ask = (row[Row.VALUE], row[Row.SIZE])\n",
    "\n",
    "    if action == \"TRADE\":\n",
    "        if condition == \"TSUM\":\n",
    "            t = TopOfBook(time=row[Row.TIME],\n",
    "                          event_type=Action.TRADE,\n",
    "                          ask_price=last_ask[0],\n",
    "                          ask_qty=last_ask[1],\n",
    "                          bid_price=last_bid[0],\n",
    "                          bid_qty=last_bid[1],\n",
    "                          trade_price=row[Row.VALUE],\n",
    "                          trade_qty=row[Row.SIZE],\n",
    "                          conditionCodes=\"\")\n",
    "            #tsum.append(\"TSUM\")\n",
    "            book.append(t)\n",
    "\n",
    "        # else if condition in \"AS,OR,AB,AL\" and tsum:\n",
    "        #     book[-1].conditionCodes \n",
    "                \n",
    "# create dataframe\n",
    "top = pd.DataFrame.from_records(book, columns=TopOfBook._fields)\n",
    "top.to_csv(currency_file.replace(\".csv\", \"_top.csv\"), index=False)\n"
   ]
  }
 ],
 "metadata": {
  "kernelspec": {
   "display_name": "Python 3",
   "language": "python",
   "name": "python3"
  },
  "language_info": {
   "codemirror_mode": {
    "name": "ipython",
    "version": 3
   },
   "file_extension": ".py",
   "mimetype": "text/x-python",
   "name": "python",
   "nbconvert_exporter": "python",
   "pygments_lexer": "ipython3",
   "version": "3.7.5"
  }
 },
 "nbformat": 4,
 "nbformat_minor": 4
}
